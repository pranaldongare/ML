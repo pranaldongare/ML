{
 "cells": [
  {
   "cell_type": "markdown",
   "metadata": {
    "collapsed": true
   },
   "source": [
    "# This is an example of Polynomial Regression for the dataset used to predict CO2 Emission of the car"
   ]
  },
  {
   "cell_type": "code",
   "execution_count": 15,
   "metadata": {},
   "outputs": [],
   "source": [
    "import numpy as np\n",
    "import pandas as pd\n",
    "from pandas import DataFrame\n",
    "import os\n",
    "import matplotlib.pyplot as plt\n",
    "import seaborn as sns\n",
    "from scipy.stats import norm\n",
    "from sklearn.preprocessing import StandardScaler\n",
    "from sklearn.preprocessing import MinMaxScaler\n",
    "from scipy import stats\n",
    "import warnings\n",
    "warnings.filterwarnings('ignore')\n",
    "from scipy.stats import zscore\n",
    "from sklearn.linear_model import LinearRegression\n",
    "from sklearn.model_selection import train_test_split\n",
    "import seaborn as sns\n",
    "from sklearn.metrics import mean_squared_error\n",
    "from math import sqrt\n",
    "%matplotlib inline\n",
    "from sklearn.preprocessing import PolynomialFeatures\n",
    "from sklearn import linear_model"
   ]
  },
  {
   "cell_type": "code",
   "execution_count": 5,
   "metadata": {},
   "outputs": [
    {
     "name": "stdout",
     "output_type": "stream",
     "text": [
      "   MODELYEAR   MAKE       MODEL VEHICLECLASS  ENGINESIZE  CYLINDERS  \\\n0       2014  ACURA         ILX      COMPACT         2.0          4   \n1       2014  ACURA         ILX      COMPACT         2.4          4   \n2       2014  ACURA  ILX HYBRID      COMPACT         1.5          4   \n3       2014  ACURA     MDX 4WD  SUV - SMALL         3.5          6   \n4       2014  ACURA     RDX AWD  SUV - SMALL         3.5          6   \n\n  TRANSMISSION FUELTYPE  FUELCONSUMPTION_CITY  FUELCONSUMPTION_HWY  \\\n0          AS5        Z                   9.9                  6.7   \n1           M6        Z                  11.2                  7.7   \n2          AV7        Z                   6.0                  5.8   \n3          AS6        Z                  12.7                  9.1   \n4          AS6        Z                  12.1                  8.7   \n\n   FUELCONSUMPTION_COMB  FUELCONSUMPTION_COMB_MPG  CO2EMISSIONS  \n0                   8.5                        33           196  \n1                   9.6                        29           221  \n2                   5.9                        48           136  \n3                  11.1                        25           255  \n4                  10.6                        27           244  \n"
     ]
    }
   ],
   "source": [
    "# Let us read the file\n",
    "initial_df = pd.read_csv(\"FuelConsumption.csv\")\n",
    "print (initial_df.head())\n"
   ]
  },
  {
   "cell_type": "code",
   "execution_count": 8,
   "metadata": {},
   "outputs": [
    {
     "name": "stdout",
     "output_type": "stream",
     "text": [
      "        ENGINESIZE  CO2EMISSIONS\ncount  1067.000000   1067.000000\nmean      3.346298    256.228679\nstd       1.415895     63.372304\nmin       1.000000    108.000000\n25%       2.000000    207.000000\n50%       3.400000    251.000000\n75%       4.300000    294.000000\nmax       8.400000    488.000000\n"
     ]
    }
   ],
   "source": [
    "#Let us use Engine Size to create second degree polynomial\n",
    "\n",
    "initial_df = initial_df[['ENGINESIZE','CO2EMISSIONS']]\n",
    "print(initial_df.describe())"
   ]
  },
  {
   "cell_type": "code",
   "execution_count": 11,
   "metadata": {},
   "outputs": [],
   "source": [
    "#Let us shuffle the dataframe so that we don't end up getting unwanted patterns.\n",
    "initial_df = initial_df.reindex(np.random.permutation(initial_df.index))\n",
    "\n",
    "# Let us create seperate datasets for Features and Labels\n",
    "X = initial_df['ENGINESIZE'].values\n",
    "Y = initial_df['CO2EMISSIONS'].values"
   ]
  },
  {
   "cell_type": "code",
   "execution_count": 13,
   "metadata": {},
   "outputs": [
    {
     "name": "stdout",
     "output_type": "stream",
     "text": [
      "(800,) (267,)\n"
     ]
    }
   ],
   "source": [
    "#Let us split the data for training and testing purpose\n",
    "X_Train, X_Test, Y_Train, Y_Test = train_test_split(X,Y, random_state=0)\n",
    "\n",
    "#Let us confirm the shape of the train and test data\n",
    "print (X_Train.shape, X_Test.shape)"
   ]
  },
  {
   "cell_type": "code",
   "execution_count": 42,
   "metadata": {},
   "outputs": [
    {
     "name": "stdout",
     "output_type": "stream",
     "text": [
      "(800, 3)\n"
     ]
    }
   ],
   "source": [
    "#Let us now initialize the polynomial function of 2 degrees\n",
    "poly = PolynomialFeatures(degree=2)\n",
    "X_Train_2 = np.reshape(X_Train, (-1,1))\n",
    "X_Train_Poly = poly.fit_transform(X_Train_2)\n",
    "print (X_Train_Poly.shape)"
   ]
  },
  {
   "cell_type": "code",
   "execution_count": 43,
   "metadata": {},
   "outputs": [
    {
     "name": "stdout",
     "output_type": "stream",
     "text": [
      "(267, 3)\n"
     ]
    }
   ],
   "source": [
    "#Let us train the model now\n",
    "model = linear_model.LinearRegression()\n",
    "model.fit(X_Train_Poly,Y_Train)\n",
    "\n",
    "# Let us check how well this model would predict\n",
    "#We need to change our test features into Polynomial as well.\n",
    "# Let us do that\n",
    "X_Test_2 = np.reshape(X_Test, (-1,1))\n",
    "X_Test_Poly = poly.fit_transform(X_Test_2)\n",
    "print (X_Test_Poly.shape)"
   ]
  },
  {
   "cell_type": "code",
   "execution_count": 44,
   "metadata": {},
   "outputs": [],
   "source": [
    "# Let us now see how well our model does\n",
    "Y_Predicted = model.predict(X_Test_Poly)"
   ]
  },
  {
   "cell_type": "code",
   "execution_count": 45,
   "metadata": {},
   "outputs": [
    {
     "name": "stdout",
     "output_type": "stream",
     "text": [
      "Root Mean Square Error = 33.507325251119454\nVariance score = 0.7245097235608521\n"
     ]
    }
   ],
   "source": [
    "#Let us see RMSE of the model\n",
    "RMSE = sqrt(mean_squared_error(Y_Test, Y_Predicted))\n",
    "print (\"Root Mean Square Error = {}\".format(RMSE))\n",
    "\n",
    "#Now let us see Variance of the model\n",
    "print('Variance score = {}'.format(model.score(X_Test_Poly, Y_Test)))"
   ]
  },
  {
   "cell_type": "code",
   "execution_count": 34,
   "metadata": {},
   "outputs": [],
   "source": [
    ""
   ]
  },
  {
   "cell_type": "code",
   "execution_count": 32,
   "metadata": {},
   "outputs": [],
   "source": []
  },
  {
   "cell_type": "code",
   "execution_count": null,
   "metadata": {},
   "outputs": [],
   "source": []
  }
 ],
 "metadata": {
  "kernelspec": {
   "display_name": "Python 2",
   "language": "python",
   "name": "python2"
  },
  "language_info": {
   "codemirror_mode": {
    "name": "ipython",
    "version": 2
   },
   "file_extension": ".py",
   "mimetype": "text/x-python",
   "name": "python",
   "nbconvert_exporter": "python",
   "pygments_lexer": "ipython2",
   "version": "2.7.6"
  }
 },
 "nbformat": 4,
 "nbformat_minor": 0
}
